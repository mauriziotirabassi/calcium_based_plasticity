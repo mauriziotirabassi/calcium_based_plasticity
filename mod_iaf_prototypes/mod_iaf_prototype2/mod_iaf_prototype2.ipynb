{
 "cells": [
  {
   "cell_type": "markdown",
   "id": "d4b11321-085d-4998-96eb-5db688779fac",
   "metadata": {},
   "source": [
    "# Setup"
   ]
  },
  {
   "cell_type": "code",
   "execution_count": 1,
   "id": "c94c45dc-2691-4e7f-bc77-b1bf64162cae",
   "metadata": {
    "tags": []
   },
   "outputs": [
    {
     "name": "stdout",
     "output_type": "stream",
     "text": [
      "\n",
      "              -- N E S T --\n",
      "  Copyright (C) 2004 The NEST Initiative\n",
      "\n",
      " Version: 3.7.0\n",
      " Built: May 19 2024 15:53:53\n",
      "\n",
      " This program is provided AS IS and comes with\n",
      " NO WARRANTY. See the file LICENSE for details.\n",
      "\n",
      " Problems or suggestions?\n",
      "   Visit https://www.nest-simulator.org\n",
      "\n",
      " Type 'nest.help()' to find out more about NEST.\n",
      "\n"
     ]
    }
   ],
   "source": [
    "%matplotlib inline\n",
    "import matplotlib as mpl\n",
    "mpl.rcParams['axes.formatter.useoffset'] = False\n",
    "import matplotlib.pyplot as plt\n",
    "import nest\n",
    "import numpy as np\n",
    "import os\n",
    "import re\n",
    "\n",
    "from pynestml.codegeneration.nest_code_generator_utils import NESTCodeGeneratorUtils\n",
    "\n",
    "from matplotlib import rcParams\n",
    "\n",
    "text_color = 'black' \n",
    "rcParams['text.color'] = text_color \n",
    "rcParams['axes.labelcolor'] = text_color \n",
    "rcParams['xtick.color'] = text_color \n",
    "rcParams['ytick.color'] = text_color \n",
    "plt.rc('font', size=12)          # controls default text sizes \n",
    "plt.rc('axes', titlesize=20)     # fontsize of the axes title \n",
    "plt.rc('axes', labelsize=20)    # fontsize of the x and y labels \n",
    "plt.rc('xtick', labelsize=20)    # fontsize of the tick labels \n",
    "plt.rc('ytick', labelsize=20)    # fontsize of the tick labels \n",
    "plt.rc('legend', fontsize=12)    # legend fontsize \n",
    "plt.rc('figure', titlesize=26)  # fontsize of the figure title"
   ]
  },
  {
   "cell_type": "code",
   "execution_count": null,
   "id": "4fab5a56-881c-463b-9715-ee0681d48825",
   "metadata": {
    "scrolled": true,
    "tags": []
   },
   "outputs": [
    {
     "name": "stderr",
     "output_type": "stream",
     "text": [
      "WARNING:root:PyGSL is not available. The stiffness test will be skipped.\n",
      "WARNING:root:Error when importing: No module named 'pygsl'\n"
     ]
    },
    {
     "name": "stdout",
     "output_type": "stream",
     "text": [
      "\n",
      "              -- N E S T --\n",
      "  Copyright (C) 2004 The NEST Initiative\n",
      "\n",
      " Version: 3.7.0\n",
      " Built: May 19 2024 15:53:53\n",
      "\n",
      " This program is provided AS IS and comes with\n",
      " NO WARRANTY. See the file LICENSE for details.\n",
      "\n",
      " Problems or suggestions?\n",
      "   Visit https://www.nest-simulator.org\n",
      "\n",
      " Type 'nest.help()' to find out more about NEST.\n",
      "\n",
      "ANTLR runtime and generated code versions disagree: 4.10!=4.13.0\n",
      "ANTLR runtime and generated code versions disagree: 4.10!=4.13.0\n"
     ]
    }
   ],
   "source": [
    "import warnings\n",
    "warnings.filterwarnings(\"ignore\", message=\"ANTLR runtime and generated code versions disagree:.*\")\n",
    "\n",
    "module_name, neuron_model_name, synapse_model_name = NESTCodeGeneratorUtils.generate_code_for(\n",
    "    nestml_neuron_model= \"iaf_cond_alpha.nestml\",\n",
    "    nestml_synapse_model= \"stdp_synapse.nestml\",\n",
    "    module_name= \"nestml_module\",\n",
    "    post_ports = [\"post_spikes\", \"ca\"],\n",
    "    target_path = \"target\")"
   ]
  },
  {
   "cell_type": "markdown",
   "id": "8199c1ed-a641-4978-9591-7b500cfaa4d4",
   "metadata": {},
   "source": [
    "## Useful Functions"
   ]
  },
  {
   "cell_type": "code",
   "execution_count": null,
   "id": "879d8715-fbcd-4c67-a985-50f5b3420b39",
   "metadata": {},
   "outputs": [],
   "source": [
    "# Runs the simulation\n",
    "def simulate(spikes, duration, vm_pre, vm_post, multimeter=None, zoom=False, interval=None):\n",
    "    # Simulate\n",
    "    nest.Simulate(duration)\n",
    "    spikes = sd.get(['events'][0])\n",
    "\n",
    "    #print(sd.events)\n",
    "    fig, ax = plt.subplots(3, figsize = (18,10))\n",
    "\n",
    "    ax[0].plot(vm_pre.events[\"times\"], vm_pre.events[\"V_m\"], color = \"b\", label = \"Pre-synaptic potential\")\n",
    "    ax[0].plot(vm_post.events[\"times\"], vm_post.events[\"V_m\"], color = \"orange\",  label = \"Post-synaptic potential\")\n",
    "    ax[0].set_title(\"Post-synptic neuron Potential\")\n",
    "    ax[0].set_ylabel(\"Vm [mV]\")\n",
    "    ax[0].legend()\n",
    "    if zoom:\n",
    "        ax[0].set_xlim(interval)\n",
    "\n",
    "    ax[1].set_title(\"Rasterplot\")\n",
    "    ax[1].plot( spikes['times'][np.where(spikes['senders']==1)], spikes['senders'][np.where(spikes['senders']==1)], '.', markersize = 40, alpha = 0.5, color = \"b\", label = \"Pre-synaptic spikes\")\n",
    "    ax[1].plot( spikes['times'][np.where(spikes['senders']==2)], spikes['senders'][np.where(spikes['senders']==2)]-1, '.', markersize = 40, alpha = 0.5,color = \"orange\", label = \"Post-synaptic spikes\")\n",
    "    ax[1].legend()\n",
    "    ax[1].set_ylabel(\"Neurons\")\n",
    "    ax[1].set_yticklabels(\"\")\n",
    "    if zoom:\n",
    "        ax[1].set_xlim(interval)\n",
    "\n",
    "    ax[2].plot(wr.events[\"times\"], wr.events[\"weights\"], color = 'r')\n",
    "    ax[2].set_title(\"STDP\")\n",
    "    ax[2].set_ylabel(\"Weight [nS]\")\n",
    "    ax[2].set_xlabel(\"Time [ms]\")\n",
    "    if zoom:\n",
    "        ax[2].set_xlim(interval)\n",
    "\n",
    "    # ax[3].plot(multimeter.events[\"times\"], multimeter.events[\"g_AMPA\"], color='blue', label=\"AMPA conductance\")\n",
    "    # ax[3].plot(multimeter.events[\"times\"], multimeter.events[\"g_NMDA\"], color='green', label=\"NMDA conductance\")\n",
    "    # ax[3].set_title(\"Synaptic Conductances\")\n",
    "    # ax[3].set_ylabel(\"Conductance [nS]\")\n",
    "    # ax[3].set_xlabel(\"Time [ms]\")\n",
    "    # ax[3].legend()\n",
    "    # if zoom:\n",
    "    #     ax[3].set_xlim(interval)\n",
    "\n",
    "    fig.tight_layout()\n",
    "\n",
    "# Compares the effects of the STDP assuming the simulation lasts 10s\n",
    "def compare(vm_pre, vm_post):\n",
    "    fig, ax = plt.subplots(1, 2, figsize = (18,7))\n",
    "\n",
    "    ax[0].plot(vm_pre.events[\"times\"], vm_pre.events[\"V_m\"], color = \"b\", label = \"Pre-synaptic potential\")\n",
    "    ax[0].plot(vm_post.events[\"times\"], vm_post.events[\"V_m\"], color = \"orange\",  label = \"Post-synaptic potential\")\n",
    "    ax[0].set_title(\"First Spike\")\n",
    "    ax[0].set_ylabel(\"Vm [mV]\")\n",
    "    ax[0].set_xlim([1000,1100])\n",
    "    ax[0].set_xlabel(\"Time [ms]\")\n",
    "    ax[0].legend()\n",
    "\n",
    "    ax[1].plot(vm_pre.events[\"times\"], vm_pre.events[\"V_m\"], color = \"b\", label = \"Pre-synaptic potential\")\n",
    "    ax[1].plot(vm_post.events[\"times\"], vm_post.events[\"V_m\"], color = \"orange\",  label = \"Post-synaptic potential\")\n",
    "    ax[1].set_title(\"Last Spike\")\n",
    "    ax[1].set_ylabel(\"Vm [mV]\")\n",
    "    ax[1].set_xlim([9000, 9100])\n",
    "    ax[1].set_xlabel(\"Time [ms]\")\n",
    "    ax[1].legend()\n",
    "\n",
    "    fig.tight_layout()"
   ]
  },
  {
   "cell_type": "markdown",
   "id": "53036195-4407-4b58-87b3-28f0659a388a",
   "metadata": {},
   "source": [
    "# Simulation"
   ]
  },
  {
   "cell_type": "code",
   "execution_count": null,
   "id": "08de62c4-8149-49b6-a281-2afcb21769cf",
   "metadata": {},
   "outputs": [],
   "source": [
    "#os.environ['LD_LIBRARY_PATH'] = '/tmp/nestml_target:' + os.environ.get('LD_LIBRARY_PATH', '')\n",
    "nest.ResetKernel()\n",
    "nest.Install(\"target/nestml_module\")\n",
    "nest.set_verbosity(\"M_ERROR\")"
   ]
  },
  {
   "cell_type": "code",
   "execution_count": null,
   "id": "1fb5a9db-0e61-4439-890f-75d511c6781e",
   "metadata": {},
   "outputs": [],
   "source": [
    "print(nest.node_models)\n",
    "print(nest.synapse_models)"
   ]
  },
  {
   "cell_type": "code",
   "execution_count": null,
   "id": "aeff1ae2-8344-42d6-8f27-7bfc7944ca6d",
   "metadata": {},
   "outputs": [],
   "source": [
    "# Define neuron and synapse models\n",
    "neuron_model = \"iaf_cond_alpha_nestml__with_stdp_nestml\"\n",
    "synapse_model = \"stdp_nestml__with_iaf_cond_alpha_nestml\"  # Spike-timing-dependent plasticity synapse\n",
    "\n",
    "# Create two neurons: pre-synaptic and post-synaptic\n",
    "pre_neuron = nest.Create(neuron_model, 1)\n",
    "post_neuron = nest.Create(neuron_model, 1)\n",
    "\n",
    "# Create a weight recorder to log changes in synaptic weights\n",
    "wr = nest.Create(\"weight_recorder\")\n",
    "nest.SetDefaults(synapse_model, {\"weight_recorder\": wr[0]})  # Attach recorder to the STDP synapse\n",
    "\n",
    "# Display default parameters for the neuron and synapse model and verify connections\n",
    "print(nest.GetDefaults(neuron_model))\n",
    "print(nest.GetDefaults(synapse_model))"
   ]
  },
  {
   "cell_type": "code",
   "execution_count": null,
   "id": "5e45e985-234f-4174-a2c5-049cf13e6764",
   "metadata": {},
   "outputs": [],
   "source": [
    "# Create the synapse\n",
    "syn_spec = nest.CollocatedSynapses(\n",
    "    # {'synapse_model': synapse_model,\n",
    "    #  'receptor_type': 1}, # General\n",
    "    {'synapse_model': synapse_model,\n",
    "     'receptor_type': 2}, # AMPA\n",
    "    {'synapse_model': synapse_model,\n",
    "     'receptor_type': 3} # NMDA\n",
    ")\n",
    "\n",
    "nest.Connect(pre_neuron, post_neuron, \"one_to_one\", syn_spec=syn_spec)\n",
    "\n",
    "print(nest.GetConnections(pre_neuron, post_neuron))"
   ]
  },
  {
   "cell_type": "code",
   "execution_count": null,
   "id": "dc96e2d1-9c73-4631-a3d9-c9e31e2c3e1c",
   "metadata": {},
   "outputs": [],
   "source": [
    "# Define simulation parameters\n",
    "duration = 10000  # Simulation time in milliseconds\n",
    "frequency = 1  # Spike frequency in Hz\n",
    "delta_t = 10  # Time shift in milliseconds (pre- vs. post-spike)\n",
    "interval = 100.0 / frequency  # Interval between spikes\n",
    "\n",
    "# Generate spike times for the spike generator\n",
    "spike_times = np.arange(interval, duration, interval)\n",
    "spike_generator = nest.Create(\"spike_generator\", {\"spike_times\": spike_times})\n",
    "\n",
    "# Adjust pre- and post-synaptic delays based on delta_t\n",
    "if delta_t >= 0:\n",
    "    delta_pre = 0.0\n",
    "    delta_post = delta_t\n",
    "else:\n",
    "    delta_pre = -1 * delta_t\n",
    "    delta_post = 0.0\n",
    "\n",
    "# Connect the spike generator to the post-neuron via an NMDA synapse\n",
    "nest.Connect(spike_generator, post_neuron, \"one_to_one\", {\n",
    "    \"synapse_model\": \"static_synapse\",\n",
    "    \"weight\": 999.0,  # Strong input weight\n",
    "    \"delay\": 1.0 + delta_post,  # Adjusted delay\n",
    "    \"receptor_type\" : 1 # Directly to V_m\n",
    "})\n",
    "\n",
    "# Connect the spike generator to the pre-neuron via an NMDA synapse\n",
    "nest.Connect(spike_generator, pre_neuron, \"one_to_one\", {\n",
    "    \"synapse_model\": \"static_synapse\",\n",
    "    \"weight\": 999.0,  # Strong input weight\n",
    "    \"delay\": 1.0 + delta_pre,  # Adjusted delay\n",
    "    \"receptor_type\" : 1 # Directly to V_m\n",
    "})\n",
    "\n",
    "# Record spikes using a spike recorder\n",
    "sd = nest.Create(\"spike_recorder\")\n",
    "nest.Connect(pre_neuron, sd)  # Connect pre-neuron to spike recorder\n",
    "nest.Connect(post_neuron, sd)  # Connect post-neuron to spike recorder\n",
    "\n",
    "# Record membrane potentials using voltmeters\n",
    "vm_pre = nest.Create(\"voltmeter\")\n",
    "vm_post = nest.Create(\"voltmeter\")\n",
    "nest.Connect(vm_pre, pre_neuron)  # Connect voltmeter to pre-neuron\n",
    "nest.Connect(vm_post, post_neuron)  # Connect voltmeter to post-neuron\n",
    "\n",
    "# # Record conductances in the postsynaptic neuron\n",
    "# multimeter = nest.Create(\"multimeter\", params={\"record_from\": [\"g_AMPA\", \"g_NMDA\"]})\n",
    "# nest.Connect(multimeter, post_neuron)"
   ]
  },
  {
   "cell_type": "code",
   "execution_count": null,
   "id": "4e6de7f9-4a5e-4b16-96df-c4792fdbbf22",
   "metadata": {},
   "outputs": [],
   "source": [
    "# Simulate\n",
    "simulate(spikes, duration, vm_pre, vm_post, zoom=True, interval=[2000, 2800])"
   ]
  },
  {
   "cell_type": "code",
   "execution_count": null,
   "id": "7b1eede3-a2b9-44e2-bd18-ff26ea0c963c",
   "metadata": {},
   "outputs": [],
   "source": [
    "# Check effects of LTP/LTD    \n",
    "compare(vm_pre, vm_post)"
   ]
  },
  {
   "cell_type": "code",
   "execution_count": null,
   "id": "b4cffbc0-95d3-4d79-ac2f-22091feee669",
   "metadata": {},
   "outputs": [],
   "source": []
  }
 ],
 "metadata": {
  "kernelspec": {
   "display_name": "EBRAINS-24.04",
   "language": "python",
   "name": "ebrains-24.04"
  },
  "language_info": {
   "codemirror_mode": {
    "name": "ipython",
    "version": 3
   },
   "file_extension": ".py",
   "mimetype": "text/x-python",
   "name": "python",
   "nbconvert_exporter": "python",
   "pygments_lexer": "ipython3",
   "version": "3.8.11"
  }
 },
 "nbformat": 4,
 "nbformat_minor": 5
}
